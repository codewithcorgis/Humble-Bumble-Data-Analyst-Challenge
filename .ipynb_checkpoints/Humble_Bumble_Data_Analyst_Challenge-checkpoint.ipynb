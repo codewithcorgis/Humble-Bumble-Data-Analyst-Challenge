{
 "cells": [
  {
   "cell_type": "markdown",
   "id": "marked-narrative",
   "metadata": {},
   "source": [
    "![Humble Bumble Hero](./images/bumble.gif)\n",
    "\n",
    "# Humble Bumble Data Analyst Interview Challenge 🐝🍯\n",
    "## Bumble   Data Analyst Interview Challenge using Python, Pandas, and Matplotlib 🐝🍯\n",
    "\n",
    "\n",
    "![Bumble Question 1](./images/bumble_Q1.gif)\n",
    "# Question 1:\n"
   ]
  },
  {
   "cell_type": "markdown",
   "id": "willing-mistress",
   "metadata": {},
   "source": [
    "Please complete the below shell function so that,  given a string s, it will count the number of unique words, \n",
    "which is case insensitive and ignores punctuation. \n",
    "\n",
    "* The answer should be printed, and should be printed in alphabetical\n",
    "order. \n",
    "\n",
    "* No libraries outside of the python standard \n",
    "libraries can be used (ie, no pandas, no sklearn, no nltk etc).\n"
   ]
  },
  {
   "cell_type": "markdown",
   "id": "experienced-thursday",
   "metadata": {},
   "source": [
    "# Example:"
   ]
  },
  {
   "cell_type": "markdown",
   "id": "extra-italy",
   "metadata": {},
   "source": [
    "### \"I'm smart, I'm educated. It would have been a disservice to every woman to go away or hide.\" - Whitney Wolfe Founder of Bumble"
   ]
  },
  {
   "cell_type": "markdown",
   "id": "indian-activation",
   "metadata": {},
   "source": [
    "------\n",
    "```Input: \"I'm smart I'm educated. It would have been a disservice to every woman to go away or hide.\" \n",
    "Ouput: \n",
    "[\n",
    " ('a', 1),\n",
    " ('away', 1),\n",
    " ('been', 1),\n",
    " ('disservice', 1),\n",
    " ('educated', 1),\n",
    " ('every', 1),\n",
    " ('go', 1),\n",
    " ('have', 1),\n",
    " ('hide', 1),\n",
    " (\"i'm\", 2),\n",
    " ('it', 1),\n",
    " ('or', 1),\n",
    " ('smart', 1),\n",
    " ('to', 2),\n",
    " ('woman', 1),\n",
    " ('would', 1)\n",
    "]```\n",
    "-----"
   ]
  },
  {
   "cell_type": "code",
   "execution_count": 19,
   "id": "upset-possession",
   "metadata": {},
   "outputs": [],
   "source": [
    "punctuations=[',', '.', '!', '\"', '?']\n",
    "\n",
    "def word_count(s): \n",
    "    sentence = s.lower() \n",
    "    for punctuation in punctuations:\n",
    "        words = sentence.replace(punctuation, '')\n",
    "    word_list = words.split()\n",
    "    word_dict = {word : word_list.count(word) for word in word_list} \n",
    "    return sorted(word_dict.items())"
   ]
  },
  {
   "cell_type": "code",
   "execution_count": 20,
   "id": "congressional-meditation",
   "metadata": {},
   "outputs": [
    {
     "data": {
      "text/plain": [
       "[('a', 1),\n",
       " ('away', 1),\n",
       " ('been', 1),\n",
       " ('disservice', 1),\n",
       " ('educated.', 1),\n",
       " ('every', 1),\n",
       " ('go', 1),\n",
       " ('have', 1),\n",
       " ('hide.', 1),\n",
       " (\"i'm\", 2),\n",
       " ('it', 1),\n",
       " ('or', 1),\n",
       " ('smart', 1),\n",
       " ('to', 2),\n",
       " ('woman', 1),\n",
       " ('would', 1)]"
      ]
     },
     "execution_count": 20,
     "metadata": {},
     "output_type": "execute_result"
    }
   ],
   "source": [
    "word_count(\"I'm smart I'm educated. It would have been a disservice to every woman to go away or hide.\")"
   ]
  },
  {
   "cell_type": "markdown",
   "id": "dramatic-harbor",
   "metadata": {},
   "source": [
    "![Bumble Question 2](./images/bumble_Q2.gif)"
   ]
  },
  {
   "cell_type": "markdown",
   "id": "built-watch",
   "metadata": {},
   "source": [
    "# Question 2: "
   ]
  },
  {
   "cell_type": "markdown",
   "id": "reported-methodology",
   "metadata": {},
   "source": [
    "Using the given pandas dataframe, please calculate the ratio of messages sent to messages received (messages_sent / messages_received) split by country and gender, and visualise this in a way that is easy to digest and\n",
    "understand. \n",
    "\n",
    "Please use any libraries you wish."
   ]
  },
  {
   "cell_type": "code",
   "execution_count": 2,
   "id": "hungarian-firewall",
   "metadata": {},
   "outputs": [],
   "source": [
    "import pandas as pd\n",
    "import numpy as np\n",
    "import matplotlib.pyplot as plt"
   ]
  },
  {
   "cell_type": "code",
   "execution_count": 3,
   "id": "israeli-elite",
   "metadata": {},
   "outputs": [
    {
     "name": "stdout",
     "output_type": "stream",
     "text": [
      "   gender country  messages_sent  messages_received\n",
      "0       M      UK           10.0               54.0\n",
      "1       F      UK           12.0               12.0\n",
      "2       M      UK            1.0               32.0\n",
      "3       M      UK            4.0               12.0\n",
      "4       F      FR            5.0               53.0\n",
      "5       M      FR           92.0               11.0\n",
      "6       F      FR           23.0                0.0\n",
      "7       M      UK           14.0                0.0\n",
      "8       F      FR            NaN               54.0\n",
      "9       F      UK           18.0                NaN\n",
      "10      M      BR           12.0               13.0\n",
      "11      F      BR            6.0                4.0\n",
      "12      F      BR            9.0               14.0\n"
     ]
    }
   ],
   "source": [
    "#creating dataframe\n",
    "messages = pd.DataFrame({'gender':\n",
    "['M','F','M','M','F','M','F','M',\n",
    "'F','F','M','F','F'],'country':['UK','UK','UK','UK','FR','FR','FR','UK','FR','UK','BR','BR','BR'],\n",
    "'messages_sent':[10,12,1,4,5,92,23,14,None,18,12,6,9],\n",
    "'messages_received':[54,12,32,12,53,11,0,0,54,None,13,4,14]})\n",
    "print(messages)"
   ]
  },
  {
   "cell_type": "markdown",
   "id": "varied-welcome",
   "metadata": {},
   "source": [
    "![Bumble DF](./images/bumble_df.gif)"
   ]
  },
  {
   "cell_type": "markdown",
   "id": "willing-hawaii",
   "metadata": {},
   "source": [
    "# Cleaning the NaNs with Zeros"
   ]
  },
  {
   "cell_type": "code",
   "execution_count": 21,
   "id": "worth-decision",
   "metadata": {},
   "outputs": [
    {
     "data": {
      "text/html": [
       "<div>\n",
       "<style scoped>\n",
       "    .dataframe tbody tr th:only-of-type {\n",
       "        vertical-align: middle;\n",
       "    }\n",
       "\n",
       "    .dataframe tbody tr th {\n",
       "        vertical-align: top;\n",
       "    }\n",
       "\n",
       "    .dataframe thead th {\n",
       "        text-align: right;\n",
       "    }\n",
       "</style>\n",
       "<table border=\"1\" class=\"dataframe\">\n",
       "  <thead>\n",
       "    <tr style=\"text-align: right;\">\n",
       "      <th></th>\n",
       "      <th>gender</th>\n",
       "      <th>country</th>\n",
       "      <th>messages_sent</th>\n",
       "      <th>messages_received</th>\n",
       "    </tr>\n",
       "  </thead>\n",
       "  <tbody>\n",
       "    <tr>\n",
       "      <th>0</th>\n",
       "      <td>M</td>\n",
       "      <td>UK</td>\n",
       "      <td>10.0</td>\n",
       "      <td>54.0</td>\n",
       "    </tr>\n",
       "    <tr>\n",
       "      <th>1</th>\n",
       "      <td>F</td>\n",
       "      <td>UK</td>\n",
       "      <td>12.0</td>\n",
       "      <td>12.0</td>\n",
       "    </tr>\n",
       "    <tr>\n",
       "      <th>2</th>\n",
       "      <td>M</td>\n",
       "      <td>UK</td>\n",
       "      <td>1.0</td>\n",
       "      <td>32.0</td>\n",
       "    </tr>\n",
       "    <tr>\n",
       "      <th>3</th>\n",
       "      <td>M</td>\n",
       "      <td>UK</td>\n",
       "      <td>4.0</td>\n",
       "      <td>12.0</td>\n",
       "    </tr>\n",
       "    <tr>\n",
       "      <th>4</th>\n",
       "      <td>F</td>\n",
       "      <td>FR</td>\n",
       "      <td>5.0</td>\n",
       "      <td>53.0</td>\n",
       "    </tr>\n",
       "    <tr>\n",
       "      <th>5</th>\n",
       "      <td>M</td>\n",
       "      <td>FR</td>\n",
       "      <td>92.0</td>\n",
       "      <td>11.0</td>\n",
       "    </tr>\n",
       "    <tr>\n",
       "      <th>6</th>\n",
       "      <td>F</td>\n",
       "      <td>FR</td>\n",
       "      <td>23.0</td>\n",
       "      <td>0.0</td>\n",
       "    </tr>\n",
       "    <tr>\n",
       "      <th>7</th>\n",
       "      <td>M</td>\n",
       "      <td>UK</td>\n",
       "      <td>14.0</td>\n",
       "      <td>0.0</td>\n",
       "    </tr>\n",
       "    <tr>\n",
       "      <th>8</th>\n",
       "      <td>F</td>\n",
       "      <td>FR</td>\n",
       "      <td>0.0</td>\n",
       "      <td>54.0</td>\n",
       "    </tr>\n",
       "    <tr>\n",
       "      <th>9</th>\n",
       "      <td>F</td>\n",
       "      <td>UK</td>\n",
       "      <td>18.0</td>\n",
       "      <td>0.0</td>\n",
       "    </tr>\n",
       "    <tr>\n",
       "      <th>10</th>\n",
       "      <td>M</td>\n",
       "      <td>BR</td>\n",
       "      <td>12.0</td>\n",
       "      <td>13.0</td>\n",
       "    </tr>\n",
       "    <tr>\n",
       "      <th>11</th>\n",
       "      <td>F</td>\n",
       "      <td>BR</td>\n",
       "      <td>6.0</td>\n",
       "      <td>4.0</td>\n",
       "    </tr>\n",
       "    <tr>\n",
       "      <th>12</th>\n",
       "      <td>F</td>\n",
       "      <td>BR</td>\n",
       "      <td>9.0</td>\n",
       "      <td>14.0</td>\n",
       "    </tr>\n",
       "  </tbody>\n",
       "</table>\n",
       "</div>"
      ],
      "text/plain": [
       "   gender country  messages_sent  messages_received\n",
       "0       M      UK           10.0               54.0\n",
       "1       F      UK           12.0               12.0\n",
       "2       M      UK            1.0               32.0\n",
       "3       M      UK            4.0               12.0\n",
       "4       F      FR            5.0               53.0\n",
       "5       M      FR           92.0               11.0\n",
       "6       F      FR           23.0                0.0\n",
       "7       M      UK           14.0                0.0\n",
       "8       F      FR            0.0               54.0\n",
       "9       F      UK           18.0                0.0\n",
       "10      M      BR           12.0               13.0\n",
       "11      F      BR            6.0                4.0\n",
       "12      F      BR            9.0               14.0"
      ]
     },
     "execution_count": 21,
     "metadata": {},
     "output_type": "execute_result"
    }
   ],
   "source": [
    "# filling NaNs with zeros\n",
    "messages = messages.fillna(0)\n",
    "messages"
   ]
  },
  {
   "cell_type": "code",
   "execution_count": 29,
   "id": "colonial-threshold",
   "metadata": {},
   "outputs": [
    {
     "data": {
      "text/html": [
       "<div>\n",
       "<style scoped>\n",
       "    .dataframe tbody tr th:only-of-type {\n",
       "        vertical-align: middle;\n",
       "    }\n",
       "\n",
       "    .dataframe tbody tr th {\n",
       "        vertical-align: top;\n",
       "    }\n",
       "\n",
       "    .dataframe thead th {\n",
       "        text-align: right;\n",
       "    }\n",
       "</style>\n",
       "<table border=\"1\" class=\"dataframe\">\n",
       "  <thead>\n",
       "    <tr style=\"text-align: right;\">\n",
       "      <th></th>\n",
       "      <th>country</th>\n",
       "      <th>gender</th>\n",
       "      <th>messages_received</th>\n",
       "    </tr>\n",
       "  </thead>\n",
       "  <tbody>\n",
       "    <tr>\n",
       "      <th>0</th>\n",
       "      <td>BR</td>\n",
       "      <td>F</td>\n",
       "      <td>18.0</td>\n",
       "    </tr>\n",
       "    <tr>\n",
       "      <th>1</th>\n",
       "      <td>BR</td>\n",
       "      <td>M</td>\n",
       "      <td>13.0</td>\n",
       "    </tr>\n",
       "    <tr>\n",
       "      <th>2</th>\n",
       "      <td>FR</td>\n",
       "      <td>F</td>\n",
       "      <td>107.0</td>\n",
       "    </tr>\n",
       "    <tr>\n",
       "      <th>3</th>\n",
       "      <td>FR</td>\n",
       "      <td>M</td>\n",
       "      <td>11.0</td>\n",
       "    </tr>\n",
       "    <tr>\n",
       "      <th>4</th>\n",
       "      <td>UK</td>\n",
       "      <td>F</td>\n",
       "      <td>12.0</td>\n",
       "    </tr>\n",
       "    <tr>\n",
       "      <th>5</th>\n",
       "      <td>UK</td>\n",
       "      <td>M</td>\n",
       "      <td>98.0</td>\n",
       "    </tr>\n",
       "  </tbody>\n",
       "</table>\n",
       "</div>"
      ],
      "text/plain": [
       "  country gender  messages_received\n",
       "0      BR      F               18.0\n",
       "1      BR      M               13.0\n",
       "2      FR      F              107.0\n",
       "3      FR      M               11.0\n",
       "4      UK      F               12.0\n",
       "5      UK      M               98.0"
      ]
     },
     "execution_count": 29,
     "metadata": {},
     "output_type": "execute_result"
    }
   ],
   "source": [
    "# Creating grouped table for messaged received\n",
    "total_messages_received_df = messages.groupby(['country', 'gender']).\\\n",
    "    messages_received.\\\n",
    "    sum().\\\n",
    "    to_frame().\\\n",
    "    reset_index().\\\n",
    "    rename(columns = {'': 'messages_received'})\n",
    "\n",
    "total_messages_received_df"
   ]
  },
  {
   "cell_type": "code",
   "execution_count": 30,
   "id": "heavy-green",
   "metadata": {},
   "outputs": [
    {
     "data": {
      "text/html": [
       "<div>\n",
       "<style scoped>\n",
       "    .dataframe tbody tr th:only-of-type {\n",
       "        vertical-align: middle;\n",
       "    }\n",
       "\n",
       "    .dataframe tbody tr th {\n",
       "        vertical-align: top;\n",
       "    }\n",
       "\n",
       "    .dataframe thead th {\n",
       "        text-align: right;\n",
       "    }\n",
       "</style>\n",
       "<table border=\"1\" class=\"dataframe\">\n",
       "  <thead>\n",
       "    <tr style=\"text-align: right;\">\n",
       "      <th></th>\n",
       "      <th>country</th>\n",
       "      <th>gender</th>\n",
       "      <th>messages_sent</th>\n",
       "    </tr>\n",
       "  </thead>\n",
       "  <tbody>\n",
       "    <tr>\n",
       "      <th>0</th>\n",
       "      <td>BR</td>\n",
       "      <td>F</td>\n",
       "      <td>15.0</td>\n",
       "    </tr>\n",
       "    <tr>\n",
       "      <th>1</th>\n",
       "      <td>BR</td>\n",
       "      <td>M</td>\n",
       "      <td>12.0</td>\n",
       "    </tr>\n",
       "    <tr>\n",
       "      <th>2</th>\n",
       "      <td>FR</td>\n",
       "      <td>F</td>\n",
       "      <td>28.0</td>\n",
       "    </tr>\n",
       "    <tr>\n",
       "      <th>3</th>\n",
       "      <td>FR</td>\n",
       "      <td>M</td>\n",
       "      <td>92.0</td>\n",
       "    </tr>\n",
       "    <tr>\n",
       "      <th>4</th>\n",
       "      <td>UK</td>\n",
       "      <td>F</td>\n",
       "      <td>30.0</td>\n",
       "    </tr>\n",
       "    <tr>\n",
       "      <th>5</th>\n",
       "      <td>UK</td>\n",
       "      <td>M</td>\n",
       "      <td>29.0</td>\n",
       "    </tr>\n",
       "  </tbody>\n",
       "</table>\n",
       "</div>"
      ],
      "text/plain": [
       "  country gender  messages_sent\n",
       "0      BR      F           15.0\n",
       "1      BR      M           12.0\n",
       "2      FR      F           28.0\n",
       "3      FR      M           92.0\n",
       "4      UK      F           30.0\n",
       "5      UK      M           29.0"
      ]
     },
     "execution_count": 30,
     "metadata": {},
     "output_type": "execute_result"
    }
   ],
   "source": [
    "# Creating grouped table for messaged sent\n",
    "total_messages_sent_df = messages.groupby(['country', 'gender']).\\\n",
    "    messages_sent.\\\n",
    "    sum().\\\n",
    "    to_frame().\\\n",
    "    reset_index().\\\n",
    "    rename(columns = {'': 'messages_sent'})\n",
    "\n",
    "total_messages_sent_df"
   ]
  },
  {
   "cell_type": "markdown",
   "id": "sacred-reconstruction",
   "metadata": {},
   "source": [
    "# Analysis: \n",
    "* French males have the highest send/receive ratio with 92 messages sent and only 11 received back.\n",
    "\n",
    "* French females and UK males seem very popular with ratios of 26% and 30% respectively\n",
    "* Both have received a lot more messages than they have sent. \n"
   ]
  },
  {
   "cell_type": "code",
   "execution_count": null,
   "id": "useful-preference",
   "metadata": {},
   "outputs": [],
   "source": []
  },
  {
   "cell_type": "code",
   "execution_count": null,
   "id": "restricted-district",
   "metadata": {},
   "outputs": [],
   "source": []
  }
 ],
 "metadata": {
  "kernelspec": {
   "display_name": "Python 3",
   "language": "python",
   "name": "python3"
  },
  "language_info": {
   "codemirror_mode": {
    "name": "ipython",
    "version": 3
   },
   "file_extension": ".py",
   "mimetype": "text/x-python",
   "name": "python",
   "nbconvert_exporter": "python",
   "pygments_lexer": "ipython3",
   "version": "3.9.0"
  }
 },
 "nbformat": 4,
 "nbformat_minor": 5
}
